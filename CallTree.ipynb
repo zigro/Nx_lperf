{
 "cells": [
  {
   "cell_type": "code",
   "execution_count": null,
   "metadata": {},
   "outputs": [],
   "source": []
  },
  {
   "cell_type": "code",
   "execution_count": null,
   "metadata": {},
   "outputs": [],
   "source": []
  },
  {
   "cell_type": "markdown",
   "metadata": {},
   "source": [
    "main.c main()\n",
    "    app_thread.c: MX_ThreadX_Init();\n",
    "          tx_kernel_enter(); ->\n",
    "            tx_initialize_kernel_enter.c:_tx_initialize_kernel_enter()\n",
    "                _tx_initialize_low_level();\n",
    "                tx_initialize_high_level.c:_tx_initialize_high_level();\n",
    "                    _tx_thread_initialize();\n",
    "                    _tx_timer_initialize();\n",
    "                    _tx_semaphore_initialize();\n",
    "                    _tx_queue_initialize();\n",
    "                    _tx_event_flags_initialize();\n",
    "                    _tx_block_pool_initialize();\n",
    "                    _tx_byte_pool_initialize();\n",
    "                    _tx_mutex_initialize();\n",
    "                app_azure_rtos.c:tx_application_define(_tx_initialize_unused_memory);\n",
    "                    app_threadx.c:App_ThreadX_Init\n",
    "                    app_filex.c:MX_FileX_Init\n",
    "                        fx_system_initialize.c:fx_system_initialize\n",
    "                    app_netxduo.c:MX_NetXDuo_Init\n",
    "                        スレッド作成\n",
    "                _tx_thread_schedule();\n",
    "                \n",
    "httpdemo.c:void tx_application_define(void *first_unused_memory)\n",
    "httpdemo.c:VOID thread_client_entry(ULONG thread_input)\n",
    "httpdemo.c:void thread_server_entry(ULONG thread_input)\n",
    "\n",
    "\n",
    "nx_ipref.c\n"
   ]
  }
 ],
 "metadata": {
  "language_info": {
   "name": "python"
  }
 },
 "nbformat": 4,
 "nbformat_minor": 2
}
